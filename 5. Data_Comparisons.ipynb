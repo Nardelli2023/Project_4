{
 "cells": [
  {
   "cell_type": "code",
   "execution_count": 1,
   "id": "3b3f813e",
   "metadata": {},
   "outputs": [],
   "source": [
    "# Import the dependencies.\n",
    "import pandas as pd\n",
    "import psycopg2\n",
    "import numpy as np\n",
    "import matplotlib.pyplot as plt\n",
    "from pathlib import Path\n",
    "from sklearn.model_selection import train_test_split\n",
    "from sklearn.linear_model import LogisticRegression\n",
    "from sklearn.metrics import classification_report\n",
    "from sklearn.datasets import make_blobs\n",
    "from sklearn.tree import DecisionTreeClassifier"
   ]
  },
  {
   "cell_type": "code",
   "execution_count": 2,
   "id": "4149e4d3",
   "metadata": {},
   "outputs": [],
   "source": [
    "conn = psycopg2.connect(database = \"Homelessness_USA\", \n",
    "                        user = \"postgres\", \n",
    "                        host= 'localhost',\n",
    "                        password = \"Nutbutt16\",\n",
    "                        port = 5432)"
   ]
  },
  {
   "cell_type": "code",
   "execution_count": 3,
   "id": "4faa8515",
   "metadata": {},
   "outputs": [
    {
     "name": "stdout",
     "output_type": "stream",
     "text": [
      "2014\n",
      "AK\n",
      "1784\n",
      "397\n",
      "202\n",
      "1185\n",
      "799\n",
      "984\n",
      "1\n",
      "0\n",
      "1720\n",
      "64\n",
      "653\n",
      "142\n",
      "14\n",
      "781\n",
      "50\n",
      "144\n",
      "178\n",
      "7\n",
      "171\n",
      "0\n",
      "0\n",
      "173\n",
      "5\n",
      "111\n",
      "21\n",
      "0\n",
      "37\n",
      "0\n",
      "9\n"
     ]
    }
   ],
   "source": [
    "cur = conn.cursor()\n",
    "cur.execute('SELECT * FROM Homelessness_USA;')\n",
    "rows = cur.fetchone()\n",
    "conn.commit()\n",
    "for row in rows:\n",
    "    print(row)"
   ]
  },
  {
   "cell_type": "code",
   "execution_count": 4,
   "id": "7b39d8a4",
   "metadata": {},
   "outputs": [],
   "source": [
    "cur = conn.cursor()\n",
    "cur.execute('SELECT * FROM Homelessness_USA;')\n",
    "rows = cur.fetchall()\n",
    "conn.commit()"
   ]
  },
  {
   "cell_type": "code",
   "execution_count": 5,
   "id": "f9d86bf0",
   "metadata": {},
   "outputs": [
    {
     "data": {
      "text/html": [
       "<div>\n",
       "<style scoped>\n",
       "    .dataframe tbody tr th:only-of-type {\n",
       "        vertical-align: middle;\n",
       "    }\n",
       "\n",
       "    .dataframe tbody tr th {\n",
       "        vertical-align: top;\n",
       "    }\n",
       "\n",
       "    .dataframe thead th {\n",
       "        text-align: right;\n",
       "    }\n",
       "</style>\n",
       "<table border=\"1\" class=\"dataframe\">\n",
       "  <thead>\n",
       "    <tr style=\"text-align: right;\">\n",
       "      <th></th>\n",
       "      <th>Year</th>\n",
       "      <th>State</th>\n",
       "      <th>Overall_Homeless</th>\n",
       "      <th>Under_18</th>\n",
       "      <th>Age_18_to_24</th>\n",
       "      <th>Over_24</th>\n",
       "      <th>Female</th>\n",
       "      <th>Male</th>\n",
       "      <th>Transgender</th>\n",
       "      <th>Non_binary</th>\n",
       "      <th>...</th>\n",
       "      <th>Veterans_Transgender</th>\n",
       "      <th>Veterans_Non_binary</th>\n",
       "      <th>Veterans_NonHispanic_NonLatin</th>\n",
       "      <th>Veterans_Hispanic_Latin</th>\n",
       "      <th>Veterans_White</th>\n",
       "      <th>Veterans_African_American</th>\n",
       "      <th>Veterans_Asian_American</th>\n",
       "      <th>Veterans_Indigenous</th>\n",
       "      <th>Veterans_Pacific_Islander</th>\n",
       "      <th>Veterans_Multiple_Races</th>\n",
       "    </tr>\n",
       "  </thead>\n",
       "  <tbody>\n",
       "    <tr>\n",
       "      <th>0</th>\n",
       "      <td>2014</td>\n",
       "      <td>AK</td>\n",
       "      <td>1784</td>\n",
       "      <td>397</td>\n",
       "      <td>202</td>\n",
       "      <td>1185</td>\n",
       "      <td>799</td>\n",
       "      <td>984</td>\n",
       "      <td>1</td>\n",
       "      <td>0</td>\n",
       "      <td>...</td>\n",
       "      <td>0</td>\n",
       "      <td>0</td>\n",
       "      <td>173</td>\n",
       "      <td>5</td>\n",
       "      <td>111</td>\n",
       "      <td>21</td>\n",
       "      <td>0</td>\n",
       "      <td>37</td>\n",
       "      <td>0</td>\n",
       "      <td>9</td>\n",
       "    </tr>\n",
       "    <tr>\n",
       "      <th>1</th>\n",
       "      <td>2014</td>\n",
       "      <td>AL</td>\n",
       "      <td>4561</td>\n",
       "      <td>772</td>\n",
       "      <td>366</td>\n",
       "      <td>3423</td>\n",
       "      <td>1681</td>\n",
       "      <td>2806</td>\n",
       "      <td>4</td>\n",
       "      <td>0</td>\n",
       "      <td>...</td>\n",
       "      <td>1</td>\n",
       "      <td>0</td>\n",
       "      <td>535</td>\n",
       "      <td>2</td>\n",
       "      <td>249</td>\n",
       "      <td>282</td>\n",
       "      <td>0</td>\n",
       "      <td>2</td>\n",
       "      <td>0</td>\n",
       "      <td>4</td>\n",
       "    </tr>\n",
       "    <tr>\n",
       "      <th>2</th>\n",
       "      <td>2014</td>\n",
       "      <td>AR</td>\n",
       "      <td>2936</td>\n",
       "      <td>355</td>\n",
       "      <td>315</td>\n",
       "      <td>2266</td>\n",
       "      <td>1113</td>\n",
       "      <td>1098</td>\n",
       "      <td>0</td>\n",
       "      <td>0</td>\n",
       "      <td>...</td>\n",
       "      <td>0</td>\n",
       "      <td>0</td>\n",
       "      <td>241</td>\n",
       "      <td>7</td>\n",
       "      <td>143</td>\n",
       "      <td>96</td>\n",
       "      <td>1</td>\n",
       "      <td>1</td>\n",
       "      <td>0</td>\n",
       "      <td>7</td>\n",
       "    </tr>\n",
       "    <tr>\n",
       "      <th>3</th>\n",
       "      <td>2014</td>\n",
       "      <td>AS</td>\n",
       "      <td>0</td>\n",
       "      <td>0</td>\n",
       "      <td>0</td>\n",
       "      <td>0</td>\n",
       "      <td>0</td>\n",
       "      <td>0</td>\n",
       "      <td>0</td>\n",
       "      <td>0</td>\n",
       "      <td>...</td>\n",
       "      <td>0</td>\n",
       "      <td>0</td>\n",
       "      <td>0</td>\n",
       "      <td>0</td>\n",
       "      <td>0</td>\n",
       "      <td>0</td>\n",
       "      <td>0</td>\n",
       "      <td>0</td>\n",
       "      <td>0</td>\n",
       "      <td>0</td>\n",
       "    </tr>\n",
       "    <tr>\n",
       "      <th>4</th>\n",
       "      <td>2014</td>\n",
       "      <td>AZ</td>\n",
       "      <td>10495</td>\n",
       "      <td>2679</td>\n",
       "      <td>1024</td>\n",
       "      <td>6792</td>\n",
       "      <td>3900</td>\n",
       "      <td>5531</td>\n",
       "      <td>15</td>\n",
       "      <td>0</td>\n",
       "      <td>...</td>\n",
       "      <td>3</td>\n",
       "      <td>0</td>\n",
       "      <td>639</td>\n",
       "      <td>94</td>\n",
       "      <td>536</td>\n",
       "      <td>122</td>\n",
       "      <td>1</td>\n",
       "      <td>49</td>\n",
       "      <td>6</td>\n",
       "      <td>19</td>\n",
       "    </tr>\n",
       "  </tbody>\n",
       "</table>\n",
       "<p>5 rows × 31 columns</p>\n",
       "</div>"
      ],
      "text/plain": [
       "   Year State  Overall_Homeless  Under_18  Age_18_to_24  Over_24  Female  \\\n",
       "0  2014    AK              1784       397           202     1185     799   \n",
       "1  2014    AL              4561       772           366     3423    1681   \n",
       "2  2014    AR              2936       355           315     2266    1113   \n",
       "3  2014    AS                 0         0             0        0       0   \n",
       "4  2014    AZ             10495      2679          1024     6792    3900   \n",
       "\n",
       "   Male  Transgender  Non_binary  ...  Veterans_Transgender  \\\n",
       "0   984            1           0  ...                     0   \n",
       "1  2806            4           0  ...                     1   \n",
       "2  1098            0           0  ...                     0   \n",
       "3     0            0           0  ...                     0   \n",
       "4  5531           15           0  ...                     3   \n",
       "\n",
       "   Veterans_Non_binary  Veterans_NonHispanic_NonLatin  \\\n",
       "0                    0                            173   \n",
       "1                    0                            535   \n",
       "2                    0                            241   \n",
       "3                    0                              0   \n",
       "4                    0                            639   \n",
       "\n",
       "   Veterans_Hispanic_Latin  Veterans_White  Veterans_African_American  \\\n",
       "0                        5             111                         21   \n",
       "1                        2             249                        282   \n",
       "2                        7             143                         96   \n",
       "3                        0               0                          0   \n",
       "4                       94             536                        122   \n",
       "\n",
       "   Veterans_Asian_American  Veterans_Indigenous  Veterans_Pacific_Islander  \\\n",
       "0                        0                   37                          0   \n",
       "1                        0                    2                          0   \n",
       "2                        1                    1                          0   \n",
       "3                        0                    0                          0   \n",
       "4                        1                   49                          6   \n",
       "\n",
       "   Veterans_Multiple_Races  \n",
       "0                        9  \n",
       "1                        4  \n",
       "2                        7  \n",
       "3                        0  \n",
       "4                       19  \n",
       "\n",
       "[5 rows x 31 columns]"
      ]
     },
     "execution_count": 5,
     "metadata": {},
     "output_type": "execute_result"
    }
   ],
   "source": [
    "df=pd.DataFrame(rows, columns=['Year','State','Overall_Homeless','Under_18','Age_18_to_24','Over_24','Female','Male',\n",
    "                               'Transgender','Non_binary','NonHispanic_NonLatin','Hispanic_Latin','White','African_American',\n",
    "                                'Asian_American','Indigenous','Pacific_Islander','Multiple_Races','Overall_Homeless_Veterans',\n",
    "                                'Veterans_Female','Veterans_Male','Veterans_Transgender','Veterans_Non_binary',\n",
    "                                'Veterans_NonHispanic_NonLatin','Veterans_Hispanic_Latin','Veterans_White',\n",
    "                                'Veterans_African_American','Veterans_Asian_American','Veterans_Indigenous',\n",
    "                                'Veterans_Pacific_Islander','Veterans_Multiple_Races',])\n",
    "df.head()"
   ]
  },
  {
   "cell_type": "code",
   "execution_count": 6,
   "id": "2fd68918",
   "metadata": {},
   "outputs": [
    {
     "name": "stdout",
     "output_type": "stream",
     "text": [
      "560\n"
     ]
    }
   ],
   "source": [
    "print(len(df))"
   ]
  },
  {
   "cell_type": "code",
   "execution_count": 7,
   "id": "b4b53974",
   "metadata": {},
   "outputs": [
    {
     "data": {
      "text/plain": [
       "Index(['Year', 'State', 'Overall_Homeless', 'Under_18', 'Age_18_to_24',\n",
       "       'Over_24', 'Female', 'Male', 'Transgender', 'Non_binary',\n",
       "       'NonHispanic_NonLatin', 'Hispanic_Latin', 'White', 'African_American',\n",
       "       'Asian_American', 'Indigenous', 'Pacific_Islander', 'Multiple_Races',\n",
       "       'Overall_Homeless_Veterans', 'Veterans_Female', 'Veterans_Male',\n",
       "       'Veterans_Transgender', 'Veterans_Non_binary',\n",
       "       'Veterans_NonHispanic_NonLatin', 'Veterans_Hispanic_Latin',\n",
       "       'Veterans_White', 'Veterans_African_American',\n",
       "       'Veterans_Asian_American', 'Veterans_Indigenous',\n",
       "       'Veterans_Pacific_Islander', 'Veterans_Multiple_Races'],\n",
       "      dtype='object')"
      ]
     },
     "execution_count": 7,
     "metadata": {},
     "output_type": "execute_result"
    }
   ],
   "source": [
    "df.columns"
   ]
  },
  {
   "cell_type": "code",
   "execution_count": 8,
   "id": "b6ce3005",
   "metadata": {},
   "outputs": [
    {
     "name": "stdout",
     "output_type": "stream",
     "text": [
      "     Year State     State name  Overall Homeless  Population  \\\n",
      "0    2023    AK         Alaska              2614      733406   \n",
      "1    2023    AL        Alabama              3304     5108468   \n",
      "2    2023    AR       Arkansas              2609     3067732   \n",
      "3    2023    AZ        Arizona             14237     7431344   \n",
      "4    2023    CA     California            181399    38965193   \n",
      "..    ...   ...            ...               ...         ...   \n",
      "862  2007    VT        Vermont              1035      623481   \n",
      "863  2007    WA     Washington             23379     6461587   \n",
      "864  2007    WI      Wisconsin              5648     5610775   \n",
      "865  2007    WV  West Virginia              2409     1834052   \n",
      "866  2007    WY        Wyoming               537      534876   \n",
      "\n",
      "     Percent of Population  \n",
      "0                   0.0036  \n",
      "1                   0.0006  \n",
      "2                   0.0009  \n",
      "3                   0.0019  \n",
      "4                   0.0047  \n",
      "..                     ...  \n",
      "862                 0.0017  \n",
      "863                 0.0036  \n",
      "864                 0.0010  \n",
      "865                 0.0013  \n",
      "866                 0.0010  \n",
      "\n",
      "[867 rows x 6 columns]\n"
     ]
    }
   ],
   "source": [
    "#Overall Country Population vs Country's Overall Homelessness Rate by State\n",
    "overall_homelessness_us_df = pd.read_csv(r\"C:\\Users\\jacqu\\git\\UofW-VIRT-DATA-PT-09-2023-U-LOLC\\Project_4\\Project_4\\Resources\\Overall_Homlessness_2007_2023V2.csv\")\n",
    "print(overall_homelessness_us_df)"
   ]
  },
  {
   "cell_type": "code",
   "execution_count": 9,
   "id": "d30509b2",
   "metadata": {},
   "outputs": [
    {
     "data": {
      "text/html": [
       "<div>\n",
       "<style scoped>\n",
       "    .dataframe tbody tr th:only-of-type {\n",
       "        vertical-align: middle;\n",
       "    }\n",
       "\n",
       "    .dataframe tbody tr th {\n",
       "        vertical-align: top;\n",
       "    }\n",
       "\n",
       "    .dataframe thead th {\n",
       "        text-align: right;\n",
       "    }\n",
       "</style>\n",
       "<table border=\"1\" class=\"dataframe\">\n",
       "  <thead>\n",
       "    <tr style=\"text-align: right;\">\n",
       "      <th></th>\n",
       "      <th>Year</th>\n",
       "      <th>State</th>\n",
       "      <th>State name</th>\n",
       "      <th>Overall Homeless</th>\n",
       "      <th>Population</th>\n",
       "      <th>Percent of Population</th>\n",
       "    </tr>\n",
       "  </thead>\n",
       "  <tbody>\n",
       "    <tr>\n",
       "      <th>0</th>\n",
       "      <td>2023</td>\n",
       "      <td>AK</td>\n",
       "      <td>Alaska</td>\n",
       "      <td>2614</td>\n",
       "      <td>733406</td>\n",
       "      <td>0.0036</td>\n",
       "    </tr>\n",
       "    <tr>\n",
       "      <th>1</th>\n",
       "      <td>2023</td>\n",
       "      <td>AL</td>\n",
       "      <td>Alabama</td>\n",
       "      <td>3304</td>\n",
       "      <td>5108468</td>\n",
       "      <td>0.0006</td>\n",
       "    </tr>\n",
       "    <tr>\n",
       "      <th>2</th>\n",
       "      <td>2023</td>\n",
       "      <td>AR</td>\n",
       "      <td>Arkansas</td>\n",
       "      <td>2609</td>\n",
       "      <td>3067732</td>\n",
       "      <td>0.0009</td>\n",
       "    </tr>\n",
       "    <tr>\n",
       "      <th>3</th>\n",
       "      <td>2023</td>\n",
       "      <td>AZ</td>\n",
       "      <td>Arizona</td>\n",
       "      <td>14237</td>\n",
       "      <td>7431344</td>\n",
       "      <td>0.0019</td>\n",
       "    </tr>\n",
       "    <tr>\n",
       "      <th>4</th>\n",
       "      <td>2023</td>\n",
       "      <td>CA</td>\n",
       "      <td>California</td>\n",
       "      <td>181399</td>\n",
       "      <td>38965193</td>\n",
       "      <td>0.0047</td>\n",
       "    </tr>\n",
       "  </tbody>\n",
       "</table>\n",
       "</div>"
      ],
      "text/plain": [
       "   Year State  State name  Overall Homeless  Population  Percent of Population\n",
       "0  2023    AK      Alaska              2614      733406                 0.0036\n",
       "1  2023    AL     Alabama              3304     5108468                 0.0006\n",
       "2  2023    AR    Arkansas              2609     3067732                 0.0009\n",
       "3  2023    AZ     Arizona             14237     7431344                 0.0019\n",
       "4  2023    CA  California            181399    38965193                 0.0047"
      ]
     },
     "execution_count": 9,
     "metadata": {},
     "output_type": "execute_result"
    }
   ],
   "source": [
    "overall_homelessness_us_df.head()"
   ]
  },
  {
   "cell_type": "code",
   "execution_count": 27,
   "id": "09fa008b",
   "metadata": {},
   "outputs": [
    {
     "data": {
      "image/png": "[encoded data removed]",
      "text/plain": [
       "<Figure size 2000x1000 with 1 Axes>"
      ]
     },
     "metadata": {},
     "output_type": "display_data"
    }
   ],
   "source": [
    "#Plot the Percent of Population for each state for 2007\n",
    "sorted_2007 = overall_homelessness_us_df[overall_homelessness_us_df['Year'] == 2007]\n",
    "sorted_2007.head()\n",
    "\n",
    "\n",
    "y_axis = sorted_2007['State']\n",
    "x_axis = sorted_2007['Percent of Population']\n",
    "\n",
    "plt.figure(figsize=(20,10))\n",
    "plt.bar(y_axis, x_axis)\n",
    "plt.xlabel('State')\n",
    "plt.ylabel(\"Homelessness Rate: Percent of Population by State\")\n",
    "plt.title(\"2007 Homeless Percent of Population by State\")\n",
    "plt.show()\n",
    "\n",
    "# print(x_axis)"
   ]
  },
  {
   "cell_type": "code",
   "execution_count": null,
   "id": "6d81ec6e",
   "metadata": {},
   "outputs": [],
   "source": [
    "# Age comparison- Average per grouping (Under 18, 18-24, over 24)\n",
    "\n",
    "#Finding the Avgerage of each age group\n",
    "below18_sorted = df[\"Under_18\"]\n",
    "below18_sorted = below18_sorted.mean().round(2)\n",
    "print(f\"The average homelessness rate below 18 is: \", {below18_sorted})\n",
    "\n",
    "eightteen_to24_sorted = df[\"Age_18_to_24\"]\n",
    "eightteen_to24_sorted = eightteen_to24_sorted.mean().round(2)\n",
    "print(f\"The average homelessness rate of 18-24 is: \", {eightteen_to24_sorted})\n",
    "\n",
    "above24_sorted = df[\"Under_18\"]\n",
    "above24_sorted = above24_sorted.mean().round(2)\n",
    "print(f\"The average homelessness rate above 24 is: \", {above24_sorted})\n",
    "\n",
    "#Compile the Data\n",
    "age_group_data = {\n",
    "    \"Age Group\": ['Under 18', '18 to 24', 'Above 24'],\n",
    "    \"Average Homelessness Rate by Age Group (US)\": [below18_sorted, eightteen_to24_sorted, above24_sorted]\n",
    "}\n",
    "\n",
    "#Create the DataFrame\n",
    "avg_age_groups_us_total = pd.DataFrame(age_group_data)\n",
    "avg_age_groups_us_total.head()\n",
    "\n",
    "#Plot the Comparison\n",
    "labels = avg_age_groups_us_total['Age Group']\n",
    "sizes = avg_age_groups_us_total['Average Homelessness Rate by Age Group (US)']\n",
    "\n",
    "plt.figure(figsize=(8,8))\n",
    "plt.pie(sizes, labels=labels, autopct='%1.1f%%', startangle=140)\n",
    "plt.axis('equal')\n",
    "plt.title(\"Average Homelessness Rate by Age Group (US)\")\n",
    "plt.show()"
   ]
  },
  {
   "cell_type": "code",
   "execution_count": null,
   "id": "421a8b09",
   "metadata": {},
   "outputs": [],
   "source": [
    "# Race comparison- Average per Race\n",
    "\n",
    "#Finding the Avgerage of each race\n",
    "non_hispanic_non_latin = df[\"NonHispanic_NonLatin\"]\n",
    "non_hispanic_non_latin = non_hispanic_non_latin.mean().round(2)\n",
    "print(f\"The average homelessness for Non-Hispanic/Non-Latin is: \", {non_hispanic_non_latin})\n",
    "\n",
    "hispanic_latin = df[\"Hispanic_Latin\"]\n",
    "hispanic_latin = hispanic_latin.mean().round(2)\n",
    "print(f\"The average homelessness rate for Hispanic/Latin is: \", {hispanic_latin})\n",
    "\n",
    "white = df[\"White\"]\n",
    "white = white.mean().round(2)\n",
    "print(f\"The average homelessness rate for White is: \", {white})\n",
    "\n",
    "african_american = df[\"African_American\"]\n",
    "african_american = african_american.mean().round(2)\n",
    "print(f\"The average homelessness rate for African American is: \", {african_american})\n",
    "\n",
    "asian_american = df[\"Asian_American\"]\n",
    "asian_american = asian_american.mean().round(2)\n",
    "print(f\"The average homelessness rate Asian American is: \", {asian_american})\n",
    "\n",
    "indigenous = df[\"Indigenous\"]\n",
    "indigenous = indigenous.mean().round(2)\n",
    "print(f\"The average homelessness rate Indigenous is: \", {indigenous})\n",
    "\n",
    "pacific_islander = df[\"Pacific_Islander\"]\n",
    "pacific_islander = pacific_islander.mean().round(2)\n",
    "print(f\"The average homelessness rate Pacific Islander is: \", {pacific_islander})\n",
    "\n",
    "multiple_races = df[\"Multiple_Races\"]\n",
    "multiple_races = multiple_races.mean().round(2)\n",
    "print(f\"The average homelessness rate for Multiple Races is: \", {multiple_races})"
   ]
  },
  {
   "cell_type": "code",
   "execution_count": null,
   "id": "471246f6",
   "metadata": {},
   "outputs": [],
   "source": [
    "#Compile the Data\n",
    "avg_race_data = {\n",
    "    \"Race\": ['NonHispanic_NonLatin', 'Hispanic_Latin', 'White', 'African_American',\n",
    "       'Asian_American', 'Indigenous', 'Pacific_Islander', 'Multiple_Races'],\n",
    "    \"Average Homelessness Rate by Race (US)\": [non_hispanic_non_latin, hispanic_latin, white, african_american, \n",
    "                                                   asian_american, indigenous, pacific_islander, multiple_races]\n",
    "}\n",
    "\n",
    "#Create the DataFrame\n",
    "avg_race_us_total = pd.DataFrame(age_group_data)\n",
    "avg_race_us_total.head()\n",
    "\n",
    "#Plot the Comparison\n",
    "labels = avg_race_us_total['Race']\n",
    "sizes = avg_race_us_total['Average Homelessness Rate by Race (US)']\n",
    "\n",
    "plt.figure(figsize=(8,8))\n",
    "plt.pie(sizes, labels=labels, autopct='%1.1f%%', startangle=140)\n",
    "plt.axis('equal')\n",
    "plt.title(\"Average Homelessness Rate by Race (US)\")\n",
    "plt.show()"
   ]
  },
  {
   "cell_type": "code",
   "execution_count": null,
   "id": "d57674c7",
   "metadata": {},
   "outputs": [],
   "source": [
    "# Gender comparison- Average per gender\n",
    "\n",
    "'Female', 'Male', 'Transgender', 'Non_binary'\n",
    "\n",
    "#Finding the Avgerage of each gender\n",
    "female_sorted = df[\"Female\"]\n",
    "female_sorted = female_sorted.mean().round(2)\n",
    "print(f\"The average homelessness rate for Female is: \", {female_sorted})\n",
    "\n",
    "Male_sorted = df[\"Male\"]\n",
    "Male_sorted = Male_sorted.mean().round(2)\n",
    "print(f\"The average homelessness rate for Male is: \", {Male_sorted})\n",
    "\n",
    "transgender_sorted = df[\"Transgender\"]\n",
    "transgender_sorted = transgender_sorted.mean().round(2)\n",
    "print(f\"The average homelessness rate for Transgender is: \", {transgender_sorted})\n",
    "\n",
    "non_binary_sorted = df[\"Non_binary\"]\n",
    "non_binary_sorted = non_binary_sorted.mean().round(2)\n",
    "print(f\"The average homelessness rate for Non Binary is: \", {non_binary_sorted})\n",
    "\n",
    "#Compile the Data\n",
    "age_group_data = {\n",
    "    \"Gender\": ['Female', 'Male', 'Transgender', 'Non_binary'],\n",
    "    \"Average Homelessness Rate by Gender (US)\": [female_sorted, Male_sorted, transgender_sorted, non_binary_sorted]\n",
    "}\n",
    "\n",
    "#Create the DataFrame\n",
    "avg_gender_us_total = pd.DataFrame(age_group_data)\n",
    "avg_gender_us_total.head()\n",
    "\n",
    "#Plot the Comparison\n",
    "labels = avg_gender_us_total['Gender']\n",
    "sizes = avg_gender_us_total['Average Homelessness Rate by Gender (US)']\n",
    "\n",
    "plt.figure(figsize=(8,10))\n",
    "plt.pie(sizes, labels=labels, autopct='%1.1f%%', startangle=140)\n",
    "plt.axis('equal')\n",
    "plt.title(\"Average Homelessness Rate by Gender (US)\")\n",
    "plt.show()"
   ]
  },
  {
   "cell_type": "code",
   "execution_count": null,
   "id": "1ba35dfd",
   "metadata": {},
   "outputs": [],
   "source": [
    "df.dtypes"
   ]
  },
  {
   "cell_type": "code",
   "execution_count": 12,
   "id": "f08a250b",
   "metadata": {},
   "outputs": [],
   "source": [
    "# df['State'] = df['State'].astype(int)\n",
    "# df['State']\n",
    "# df.columns\n",
    "# df.head()\n",
    "# df.shape\n",
    "\n",
    "region_mapping = {\n",
    "    'ME': 'Northeast', 'NH': 'Northeast', 'VT': 'Northeast', 'MA': 'Northeast', 'RI': 'Northeast',\n",
    "    'CT': 'Northeast', 'NY': 'Northeast', 'PA': 'Northeast', 'NJ': 'Northeast',\n",
    "    'ND': 'Midwest', 'SD': 'Midwest', 'NE': 'Midwest', 'KS': 'Midwest', 'MN': 'Midwest',\n",
    "    'IA': 'Midwest', 'MO': 'Midwest', 'WI': 'Midwest', 'IL': 'Midwest', 'MI': 'Midwest',\n",
    "    'IN': 'Midwest', 'OH': 'Midwest',\n",
    "    'DE': 'South', 'MD': 'South', 'DC': 'South', 'VA': 'South', 'WV': 'South',\n",
    "    'NC': 'South', 'SC': 'South', 'GA': 'South', 'FL': 'South', 'KY': 'South',\n",
    "    'TN': 'South', 'MS': 'South', 'AL': 'South', 'OK': 'South', 'TX': 'South',\n",
    "    'AR': 'South', 'LA': 'South',\n",
    "    'ID': 'West', 'MT': 'West', 'WY': 'West', 'NV': 'West', 'UT': 'West',\n",
    "    'CO': 'West', 'AZ': 'West', 'NM': 'West', 'AK': 'West', 'WA': 'West',\n",
    "    'OR': 'West', 'CA': 'West', 'HI': 'West'\n",
    "}\n",
    "\n",
    "df['Region'] = df['State'].map(region_mapping)\n",
    "\n",
    "df['Region_Code'] = df['Region'].astype('category').cat.codes"
   ]
  },
  {
   "cell_type": "code",
   "execution_count": 20,
   "id": "237dd94f",
   "metadata": {},
   "outputs": [
    {
     "data": {
      "text/plain": [
       "0      3\n",
       "1      2\n",
       "2      2\n",
       "4      3\n",
       "5      3\n",
       "      ..\n",
       "555    1\n",
       "556    3\n",
       "557    0\n",
       "558    2\n",
       "559    3\n",
       "Name: Region_Code, Length: 510, dtype: int8"
      ]
     },
     "execution_count": 20,
     "metadata": {},
     "output_type": "execute_result"
    }
   ],
   "source": [
    "\n",
    "\n",
    "df = df.loc[df['Region_Code'] != -1]\n",
    "# df['Region']\n",
    "# df.dropna(inplace=True)\n",
    "# df = pd.get_dummies(df, columns=['State'])\n",
    "# df['State']\n",
    "df['Region_Code']"
   ]
  },
  {
   "cell_type": "code",
   "execution_count": 22,
   "id": "959d3baf",
   "metadata": {},
   "outputs": [
    {
     "data": {
      "text/plain": [
       "0.35294117647058826"
      ]
     },
     "execution_count": 22,
     "metadata": {},
     "output_type": "execute_result"
    }
   ],
   "source": [
    "X = df[['Year', 'Overall_Homeless']]\n",
    "y = df['Region_Code']\n",
    "\n",
    "X_train, X_test, y_train, y_test = train_test_split(X, y, test_size=0.2, random_state=42)\n",
    "\n",
    "dt_class = DecisionTreeClassifier(random_state=42)\n",
    "\n",
    "dt_class.fit(X_train, y_train)\n",
    "\n",
    "from sklearn.metrics import accuracy_score\n",
    "\n",
    "y_pred = dt_class.predict(X_test)\n",
    "\n",
    "acc = accuracy_score(y_test, y_pred)\n",
    "acc"
   ]
  },
  {
   "cell_type": "code",
   "execution_count": 28,
   "id": "f553a6b7",
   "metadata": {},
   "outputs": [
    {
     "data": {
      "text/html": [
       "<div>\n",
       "<style scoped>\n",
       "    .dataframe tbody tr th:only-of-type {\n",
       "        vertical-align: middle;\n",
       "    }\n",
       "\n",
       "    .dataframe tbody tr th {\n",
       "        vertical-align: top;\n",
       "    }\n",
       "\n",
       "    .dataframe thead th {\n",
       "        text-align: right;\n",
       "    }\n",
       "</style>\n",
       "<table border=\"1\" class=\"dataframe\">\n",
       "  <thead>\n",
       "    <tr style=\"text-align: right;\">\n",
       "      <th></th>\n",
       "      <th>Predicition</th>\n",
       "      <th>Actual</th>\n",
       "    </tr>\n",
       "  </thead>\n",
       "  <tbody>\n",
       "    <tr>\n",
       "      <th>527</th>\n",
       "      <td>0</td>\n",
       "      <td>1</td>\n",
       "    </tr>\n",
       "    <tr>\n",
       "      <th>493</th>\n",
       "      <td>2</td>\n",
       "      <td>0</td>\n",
       "    </tr>\n",
       "    <tr>\n",
       "      <th>522</th>\n",
       "      <td>3</td>\n",
       "      <td>0</td>\n",
       "    </tr>\n",
       "    <tr>\n",
       "      <th>477</th>\n",
       "      <td>2</td>\n",
       "      <td>3</td>\n",
       "    </tr>\n",
       "    <tr>\n",
       "      <th>405</th>\n",
       "      <td>2</td>\n",
       "      <td>3</td>\n",
       "    </tr>\n",
       "  </tbody>\n",
       "</table>\n",
       "</div>"
      ],
      "text/plain": [
       "     Predicition  Actual\n",
       "527            0       1\n",
       "493            2       0\n",
       "522            3       0\n",
       "477            2       3\n",
       "405            2       3"
      ]
     },
     "execution_count": 28,
     "metadata": {},
     "output_type": "execute_result"
    }
   ],
   "source": [
    "#Predictions via Confusion Matrix\n",
    "\n",
    "from sklearn.preprocessing import StandardScaler\n",
    "\n",
    "#Preprocess the Data\n",
    "scaler = StandardScaler()\n",
    "\n",
    "df[['Year', 'Overall_Homeless']] = scaler.fit_transform(df[['Year', 'Overall_Homeless']])\n",
    "\n",
    "\n",
    "#Define the Target Vaiable    \n",
    "y = df['Region_Code']\n",
    "\n",
    "X_train, X_test, y_train, y_test = train_test_split(X, y, test_size=0.2, random_state=42)\n",
    "\n",
    "#Create a Logistic Regression Model\n",
    "classifier = LogisticRegression(solver='lbfgs', random_state=1)\n",
    "\n",
    "#Fit or model using the data\n",
    "classifier = DecisionTreeClassifier()\n",
    "classifier.fit(X_train, y_train)\n",
    "\n",
    "predicitions = classifier.predict(X_test)\n",
    "predict_df = pd.DataFrame({\"Predicition\": predicitions, \"Actual\": y_test})\n",
    "predict_df.head(5)"
   ]
  },
  {
   "cell_type": "code",
   "execution_count": 29,
   "id": "f692dff5",
   "metadata": {},
   "outputs": [
    {
     "data": {
      "text/plain": [
       "array([[ 8,  2,  7, 11],\n",
       "       [ 4,  7,  5,  5],\n",
       "       [ 8,  3, 14, 11],\n",
       "       [ 1,  0,  7,  9]], dtype=int64)"
      ]
     },
     "execution_count": 29,
     "metadata": {},
     "output_type": "execute_result"
    }
   ],
   "source": [
    "from sklearn.metrics import confusion_matrix\n",
    "confusion_matrix(y_test, predicitions)"
   ]
  },
  {
   "cell_type": "code",
   "execution_count": 31,
   "id": "8d99c032",
   "metadata": {},
   "outputs": [
    {
     "name": "stdout",
     "output_type": "stream",
     "text": [
      "              precision    recall  f1-score   support\n",
      "\n",
      "   Northeast       0.38      0.29      0.33        28\n",
      "     Midwest       0.58      0.33      0.42        21\n",
      "       South       0.42      0.39      0.41        36\n",
      "        West       0.25      0.53      0.34        17\n",
      "\n",
      "    accuracy                           0.37       102\n",
      "   macro avg       0.41      0.38      0.37       102\n",
      "weighted avg       0.42      0.37      0.38       102\n",
      "\n"
     ]
    }
   ],
   "source": [
    "from sklearn.metrics import classification_report\n",
    "target_names = ['Northeast', 'Midwest', 'South', 'West']\n",
    "print(classification_report(y_test, predicitions, target_names=target_names))"
   ]
  },
  {
   "cell_type": "code",
   "execution_count": 32,
   "id": "ee895210",
   "metadata": {},
   "outputs": [
    {
     "data": {
      "text/plain": [
       "0.37254901960784315"
      ]
     },
     "execution_count": 32,
     "metadata": {},
     "output_type": "execute_result"
    }
   ],
   "source": [
    "from sklearn.metrics import accuracy_score\n",
    "accuracy_score(y_test, predicitions)"
   ]
  },
  {
   "cell_type": "code",
   "execution_count": 33,
   "id": "746bacbf",
   "metadata": {},
   "outputs": [
    {
     "name": "stdout",
     "output_type": "stream",
     "text": [
      "Labels: [3 2 0 2 3 2 1 1 1 0]\n",
      "Data: [[-9.68512147  5.80867569]\n",
      " [-6.06610997 -8.11097391]\n",
      " [-2.97867201  9.55684617]\n",
      " [-5.47683288 -8.28196066]\n",
      " [-8.4805404   7.88430744]\n",
      " [-7.87016352 -7.44640732]\n",
      " [ 4.97114227  2.94871481]\n",
      " [ 4.42020695  2.33028226]\n",
      " [ 4.73695639  2.94181467]\n",
      " [-3.6601912   9.38998415]]\n"
     ]
    },
    {
     "data": {
      "text/plain": [
       "<matplotlib.collections.PathCollection at 0x21893b30610>"
      ]
     },
     "execution_count": 33,
     "metadata": {},
     "output_type": "execute_result"
    },
    {
     "data": {
      "image/png": "[encoded data removed]",
      "text/plain": [
       "<Figure size 640x480 with 1 Axes>"
      ]
     },
     "metadata": {},
     "output_type": "display_data"
    }
   ],
   "source": [
    "#Plot the data\n",
    "\n",
    "X, y = make_blobs(centers=4, random_state=42)\n",
    "\n",
    "print(f'Labels: {y[:10]}')\n",
    "print(f'Data: {X[:10]}')\n",
    "\n",
    "plt.scatter(X[:, 0], X[:, 1], c=y)"
   ]
  },
  {
   "cell_type": "code",
   "execution_count": null,
   "id": "2472a26f",
   "metadata": {},
   "outputs": [],
   "source": []
  }
 ],
 "metadata": {
  "kernelspec": {
   "display_name": "Python 3 (ipykernel)",
   "language": "python",
   "name": "python3"
  },
  "language_info": {
   "codemirror_mode": {
    "name": "ipython",
    "version": 3
   },
   "file_extension": ".py",
   "mimetype": "text/x-python",
   "name": "python",
   "nbconvert_exporter": "python",
   "pygments_lexer": "ipython3",
   "version": "3.11.5"
  }
 },
 "nbformat": 4,
 "nbformat_minor": 5
}
